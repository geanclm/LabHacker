{
 "cells": [
  {
   "cell_type": "markdown",
   "metadata": {},
   "source": [
    "# Title"
   ]
  },
  {
   "cell_type": "code",
   "execution_count": 1,
   "metadata": {},
   "outputs": [],
   "source": [
    "# Análise de dados do Senado\n",
    "# Cota para o Exercício da Atividade Parlamentar dos Senadores (Ceaps)\n",
    "# fonte de dados: https://www12.senado.leg.br/transparencia/dados-abertos-transparencia/dados-abertos-ceaps"
   ]
  },
  {
   "cell_type": "markdown",
   "metadata": {},
   "source": [
    "# Head"
   ]
  },
  {
   "cell_type": "code",
   "execution_count": 21,
   "metadata": {},
   "outputs": [],
   "source": [
    "# by geanclm in 20/02/2022 at 16:43h\n",
    "# Objective:"
   ]
  },
  {
   "cell_type": "markdown",
   "metadata": {},
   "source": [
    "# Local files"
   ]
  },
  {
   "cell_type": "code",
   "execution_count": 3,
   "metadata": {},
   "outputs": [
    {
     "name": "stdout",
     "output_type": "stream",
     "text": [
      " O volume na unidade C ‚ Windows\n",
      " O N£mero de S‚rie do Volume ‚ 2656-7D0D\n",
      "\n",
      " Pasta de C:\\Users\\geanc\\Downloads\\DATA SCIENCE\\LABHacker\n",
      "\n",
      "20/02/2022  18:09    <DIR>          .\n",
      "20/02/2022  18:09    <DIR>          ..\n",
      "20/02/2022  18:01    <DIR>          .ipynb_checkpoints\n",
      "19/02/2022  15:44           288.946 1.png\n",
      "17/02/2022  23:26         1.283.693 2120.xlsx\n",
      "18/02/2022  00:09         1.432.576 2120_.xls\n",
      "19/02/2022  14:37             8.147 API_escola_inteligente.ipynb\n",
      "19/02/2022  14:17            27.053 API_partidos_json.ipynb\n",
      "17/02/2022  23:20            69.209 cursos-prouni-2018.ipynb\n",
      "17/02/2022  18:33         9.225.477 cursos-prouni.csv\n",
      "17/02/2022  18:28           152.930 dadosDF_cirurgias.ipynb\n",
      "20/02/2022  16:06         4.503.713 despesa_ceaps_2021.csv\n",
      "20/02/2022  18:02         1.493.387 eleitorado_municipio_2020.csv\n",
      "19/02/2022  11:58            79.069 filmes.ipynb\n",
      "17/02/2022  11:17            21.932 LABHacker_pronatec.ipynb\n",
      "16/02/2022  18:19            77.870 PDA_UNIDADES_RF_EPCT_CSV.csv\n",
      "20/02/2022  18:09            39.532 senado_csv.ipynb\n",
      "16/02/2022  19:39         1.182.580 sih-janeiro-2017-cirurgias-eletiva-e-emergencia.csv\n",
      "20/02/2022  18:09            17.650 TSE_eleitorado_csv.ipynb\n",
      "16/02/2022  17:50           105.709 Unidades_da_Rede_Federal_de_EPCT.csv\n",
      "19/02/2022  15:24            58.186 webscraping_wikipedia.ipynb\n",
      "              18 arquivo(s)     20.067.659 bytes\n",
      "               3 pasta(s)   636.467.712.000 bytes dispon¡veis\n"
     ]
    }
   ],
   "source": [
    "!dir"
   ]
  },
  {
   "cell_type": "markdown",
   "metadata": {},
   "source": [
    "# Import libs"
   ]
  },
  {
   "cell_type": "code",
   "execution_count": 4,
   "metadata": {},
   "outputs": [],
   "source": [
    "import pandas as pd\n",
    "import matplotlib.pyplot as plt"
   ]
  },
  {
   "cell_type": "markdown",
   "metadata": {},
   "source": [
    "# Loading data"
   ]
  },
  {
   "cell_type": "code",
   "execution_count": 5,
   "metadata": {},
   "outputs": [],
   "source": [
    "df = pd.read_csv('despesa_ceaps_2021.csv', sep =';', encoding='cp1252', skiprows=1)"
   ]
  },
  {
   "cell_type": "code",
   "execution_count": 6,
   "metadata": {},
   "outputs": [
    {
     "data": {
      "text/html": [
       "<div>\n",
       "<style scoped>\n",
       "    .dataframe tbody tr th:only-of-type {\n",
       "        vertical-align: middle;\n",
       "    }\n",
       "\n",
       "    .dataframe tbody tr th {\n",
       "        vertical-align: top;\n",
       "    }\n",
       "\n",
       "    .dataframe thead th {\n",
       "        text-align: right;\n",
       "    }\n",
       "</style>\n",
       "<table border=\"1\" class=\"dataframe\">\n",
       "  <thead>\n",
       "    <tr style=\"text-align: right;\">\n",
       "      <th></th>\n",
       "      <th>ANO</th>\n",
       "      <th>MES</th>\n",
       "      <th>SENADOR</th>\n",
       "      <th>TIPO_DESPESA</th>\n",
       "      <th>CNPJ_CPF</th>\n",
       "      <th>FORNECEDOR</th>\n",
       "      <th>DOCUMENTO</th>\n",
       "      <th>DATA</th>\n",
       "      <th>DETALHAMENTO</th>\n",
       "      <th>VALOR_REEMBOLSADO</th>\n",
       "      <th>COD_DOCUMENTO</th>\n",
       "    </tr>\n",
       "  </thead>\n",
       "  <tbody>\n",
       "    <tr>\n",
       "      <th>0</th>\n",
       "      <td>2021</td>\n",
       "      <td>1</td>\n",
       "      <td>ACIR GURGACZ</td>\n",
       "      <td>Aluguel de imóveis para escritório político, c...</td>\n",
       "      <td>05.914.650/0001-66</td>\n",
       "      <td>ENERGISA</td>\n",
       "      <td>023.489.627</td>\n",
       "      <td>21/01/2021</td>\n",
       "      <td>Pagamento de energia elétrica para uso do escr...</td>\n",
       "      <td>75,29</td>\n",
       "      <td>2158003</td>\n",
       "    </tr>\n",
       "    <tr>\n",
       "      <th>1</th>\n",
       "      <td>2021</td>\n",
       "      <td>1</td>\n",
       "      <td>ACIR GURGACZ</td>\n",
       "      <td>Aluguel de imóveis para escritório político, c...</td>\n",
       "      <td>062.135.728-64</td>\n",
       "      <td>FERNANDO WALDEIR PACINI e ANA LUCIA DA SILVA S...</td>\n",
       "      <td>01/2021</td>\n",
       "      <td>05/01/2021</td>\n",
       "      <td>Despesa com pagamento de aluguel de imóvel par...</td>\n",
       "      <td>1000</td>\n",
       "      <td>2157367</td>\n",
       "    </tr>\n",
       "    <tr>\n",
       "      <th>2</th>\n",
       "      <td>2021</td>\n",
       "      <td>1</td>\n",
       "      <td>ACIR GURGACZ</td>\n",
       "      <td>Aluguel de imóveis para escritório político, c...</td>\n",
       "      <td>004.948.028-63</td>\n",
       "      <td>GILBERTO PISELO DO NASCIMENTO</td>\n",
       "      <td>001/21</td>\n",
       "      <td>06/01/2021</td>\n",
       "      <td>Despesa com aluguel de imóvel para uso do escr...</td>\n",
       "      <td>6000</td>\n",
       "      <td>2156383</td>\n",
       "    </tr>\n",
       "    <tr>\n",
       "      <th>3</th>\n",
       "      <td>2021</td>\n",
       "      <td>1</td>\n",
       "      <td>ACIR GURGACZ</td>\n",
       "      <td>Divulgação da atividade parlamentar</td>\n",
       "      <td>26.320.603/0001-64</td>\n",
       "      <td>INFORMANAHORA</td>\n",
       "      <td>10</td>\n",
       "      <td>25/01/2021</td>\n",
       "      <td>Divulgação da atividade parlamentar</td>\n",
       "      <td>1500</td>\n",
       "      <td>2154509</td>\n",
       "    </tr>\n",
       "    <tr>\n",
       "      <th>4</th>\n",
       "      <td>2021</td>\n",
       "      <td>1</td>\n",
       "      <td>ACIR GURGACZ</td>\n",
       "      <td>Divulgação da atividade parlamentar</td>\n",
       "      <td>13.659.201/0001-47</td>\n",
       "      <td>LINHA PURPURA FOTO E VIDEO LTDA</td>\n",
       "      <td>44</td>\n",
       "      <td>07/01/2021</td>\n",
       "      <td>Divulgação da atividade parlamentar</td>\n",
       "      <td>6000</td>\n",
       "      <td>2154507</td>\n",
       "    </tr>\n",
       "  </tbody>\n",
       "</table>\n",
       "</div>"
      ],
      "text/plain": [
       "    ANO  MES       SENADOR                                       TIPO_DESPESA  \\\n",
       "0  2021    1  ACIR GURGACZ  Aluguel de imóveis para escritório político, c...   \n",
       "1  2021    1  ACIR GURGACZ  Aluguel de imóveis para escritório político, c...   \n",
       "2  2021    1  ACIR GURGACZ  Aluguel de imóveis para escritório político, c...   \n",
       "3  2021    1  ACIR GURGACZ                Divulgação da atividade parlamentar   \n",
       "4  2021    1  ACIR GURGACZ                Divulgação da atividade parlamentar   \n",
       "\n",
       "             CNPJ_CPF                                         FORNECEDOR  \\\n",
       "0  05.914.650/0001-66                                           ENERGISA   \n",
       "1      062.135.728-64  FERNANDO WALDEIR PACINI e ANA LUCIA DA SILVA S...   \n",
       "2      004.948.028-63                      GILBERTO PISELO DO NASCIMENTO   \n",
       "3  26.320.603/0001-64                                      INFORMANAHORA   \n",
       "4  13.659.201/0001-47                    LINHA PURPURA FOTO E VIDEO LTDA   \n",
       "\n",
       "     DOCUMENTO        DATA                                       DETALHAMENTO  \\\n",
       "0  023.489.627  21/01/2021  Pagamento de energia elétrica para uso do escr...   \n",
       "1      01/2021  05/01/2021  Despesa com pagamento de aluguel de imóvel par...   \n",
       "2       001/21  06/01/2021  Despesa com aluguel de imóvel para uso do escr...   \n",
       "3           10  25/01/2021                Divulgação da atividade parlamentar   \n",
       "4           44  07/01/2021                Divulgação da atividade parlamentar   \n",
       "\n",
       "  VALOR_REEMBOLSADO  COD_DOCUMENTO  \n",
       "0             75,29        2158003  \n",
       "1              1000        2157367  \n",
       "2              6000        2156383  \n",
       "3              1500        2154509  \n",
       "4              6000        2154507  "
      ]
     },
     "execution_count": 6,
     "metadata": {},
     "output_type": "execute_result"
    }
   ],
   "source": [
    "df.head()"
   ]
  },
  {
   "cell_type": "markdown",
   "metadata": {},
   "source": [
    "# Data preparation"
   ]
  },
  {
   "cell_type": "code",
   "execution_count": 7,
   "metadata": {},
   "outputs": [
    {
     "data": {
      "text/plain": [
       "0          75,29\n",
       "1           1000\n",
       "2           6000\n",
       "3           1500\n",
       "4           6000\n",
       "          ...   \n",
       "16663    1715,45\n",
       "16664    2489,29\n",
       "16665    1486,66\n",
       "16666    2515,56\n",
       "16667    1510,75\n",
       "Name: VALOR_REEMBOLSADO, Length: 16668, dtype: object"
      ]
     },
     "execution_count": 7,
     "metadata": {},
     "output_type": "execute_result"
    }
   ],
   "source": [
    "df['VALOR_REEMBOLSADO']"
   ]
  },
  {
   "cell_type": "code",
   "execution_count": 8,
   "metadata": {},
   "outputs": [],
   "source": [
    "df['VALOR_REEMBOLSADO'] = df['VALOR_REEMBOLSADO'].str.replace(',','.').astype(float)"
   ]
  },
  {
   "cell_type": "markdown",
   "metadata": {},
   "source": [
    "# Data visualization"
   ]
  },
  {
   "cell_type": "code",
   "execution_count": 9,
   "metadata": {},
   "outputs": [
    {
     "name": "stdout",
     "output_type": "stream",
     "text": [
      "<class 'pandas.core.frame.DataFrame'>\n",
      "RangeIndex: 16668 entries, 0 to 16667\n",
      "Data columns (total 11 columns):\n",
      " #   Column             Non-Null Count  Dtype  \n",
      "---  ------             --------------  -----  \n",
      " 0   ANO                16668 non-null  int64  \n",
      " 1   MES                16668 non-null  int64  \n",
      " 2   SENADOR            16668 non-null  object \n",
      " 3   TIPO_DESPESA       16668 non-null  object \n",
      " 4   CNPJ_CPF           16668 non-null  object \n",
      " 5   FORNECEDOR         16668 non-null  object \n",
      " 6   DOCUMENTO          15998 non-null  object \n",
      " 7   DATA               16668 non-null  object \n",
      " 8   DETALHAMENTO       9081 non-null   object \n",
      " 9   VALOR_REEMBOLSADO  16668 non-null  float64\n",
      " 10  COD_DOCUMENTO      16668 non-null  int64  \n",
      "dtypes: float64(1), int64(3), object(7)\n",
      "memory usage: 1.4+ MB\n"
     ]
    }
   ],
   "source": [
    "df.info()"
   ]
  },
  {
   "cell_type": "code",
   "execution_count": 10,
   "metadata": {},
   "outputs": [
    {
     "data": {
      "text/html": [
       "<div>\n",
       "<style scoped>\n",
       "    .dataframe tbody tr th:only-of-type {\n",
       "        vertical-align: middle;\n",
       "    }\n",
       "\n",
       "    .dataframe tbody tr th {\n",
       "        vertical-align: top;\n",
       "    }\n",
       "\n",
       "    .dataframe thead th {\n",
       "        text-align: right;\n",
       "    }\n",
       "</style>\n",
       "<table border=\"1\" class=\"dataframe\">\n",
       "  <thead>\n",
       "    <tr style=\"text-align: right;\">\n",
       "      <th></th>\n",
       "      <th>ANO</th>\n",
       "      <th>MES</th>\n",
       "      <th>VALOR_REEMBOLSADO</th>\n",
       "      <th>COD_DOCUMENTO</th>\n",
       "    </tr>\n",
       "  </thead>\n",
       "  <tbody>\n",
       "    <tr>\n",
       "      <th>count</th>\n",
       "      <td>16668.0</td>\n",
       "      <td>16668.000000</td>\n",
       "      <td>16668.000000</td>\n",
       "      <td>1.666800e+04</td>\n",
       "    </tr>\n",
       "    <tr>\n",
       "      <th>mean</th>\n",
       "      <td>2021.0</td>\n",
       "      <td>6.876530</td>\n",
       "      <td>1483.669322</td>\n",
       "      <td>2.164091e+06</td>\n",
       "    </tr>\n",
       "    <tr>\n",
       "      <th>std</th>\n",
       "      <td>0.0</td>\n",
       "      <td>3.293123</td>\n",
       "      <td>2931.132302</td>\n",
       "      <td>5.408597e+03</td>\n",
       "    </tr>\n",
       "    <tr>\n",
       "      <th>min</th>\n",
       "      <td>2021.0</td>\n",
       "      <td>1.000000</td>\n",
       "      <td>0.010000</td>\n",
       "      <td>2.154172e+06</td>\n",
       "    </tr>\n",
       "    <tr>\n",
       "      <th>25%</th>\n",
       "      <td>2021.0</td>\n",
       "      <td>4.000000</td>\n",
       "      <td>188.037500</td>\n",
       "      <td>2.159554e+06</td>\n",
       "    </tr>\n",
       "    <tr>\n",
       "      <th>50%</th>\n",
       "      <td>2021.0</td>\n",
       "      <td>7.000000</td>\n",
       "      <td>500.000000</td>\n",
       "      <td>2.164122e+06</td>\n",
       "    </tr>\n",
       "    <tr>\n",
       "      <th>75%</th>\n",
       "      <td>2021.0</td>\n",
       "      <td>10.000000</td>\n",
       "      <td>1673.940000</td>\n",
       "      <td>2.168690e+06</td>\n",
       "    </tr>\n",
       "    <tr>\n",
       "      <th>max</th>\n",
       "      <td>2021.0</td>\n",
       "      <td>12.000000</td>\n",
       "      <td>65000.000000</td>\n",
       "      <td>2.174692e+06</td>\n",
       "    </tr>\n",
       "  </tbody>\n",
       "</table>\n",
       "</div>"
      ],
      "text/plain": [
       "           ANO           MES  VALOR_REEMBOLSADO  COD_DOCUMENTO\n",
       "count  16668.0  16668.000000       16668.000000   1.666800e+04\n",
       "mean    2021.0      6.876530        1483.669322   2.164091e+06\n",
       "std        0.0      3.293123        2931.132302   5.408597e+03\n",
       "min     2021.0      1.000000           0.010000   2.154172e+06\n",
       "25%     2021.0      4.000000         188.037500   2.159554e+06\n",
       "50%     2021.0      7.000000         500.000000   2.164122e+06\n",
       "75%     2021.0     10.000000        1673.940000   2.168690e+06\n",
       "max     2021.0     12.000000       65000.000000   2.174692e+06"
      ]
     },
     "execution_count": 10,
     "metadata": {},
     "output_type": "execute_result"
    }
   ],
   "source": [
    "df.describe()"
   ]
  },
  {
   "cell_type": "code",
   "execution_count": 11,
   "metadata": {},
   "outputs": [
    {
     "data": {
      "text/plain": [
       "Index(['ANO', 'MES', 'SENADOR', 'TIPO_DESPESA', 'CNPJ_CPF', 'FORNECEDOR',\n",
       "       'DOCUMENTO', 'DATA', 'DETALHAMENTO', 'VALOR_REEMBOLSADO',\n",
       "       'COD_DOCUMENTO'],\n",
       "      dtype='object')"
      ]
     },
     "execution_count": 11,
     "metadata": {},
     "output_type": "execute_result"
    }
   ],
   "source": [
    "df.columns"
   ]
  },
  {
   "cell_type": "code",
   "execution_count": 12,
   "metadata": {},
   "outputs": [],
   "source": [
    "# plt.figure(figsize=(5,15))\n",
    "# df.SENADOR.value_counts(ascending=True).plot.barh();"
   ]
  },
  {
   "cell_type": "code",
   "execution_count": 13,
   "metadata": {},
   "outputs": [
    {
     "data": {
      "text/plain": [
       "24729800.259999998"
      ]
     },
     "execution_count": 13,
     "metadata": {},
     "output_type": "execute_result"
    }
   ],
   "source": [
    "df['VALOR_REEMBOLSADO'].sum()"
   ]
  },
  {
   "cell_type": "code",
   "execution_count": 14,
   "metadata": {},
   "outputs": [
    {
     "data": {
      "text/plain": [
       "JAQUES WAGNER           673\n",
       "CARLOS VIANA            596\n",
       "HUMBERTO COSTA          502\n",
       "LUIS CARLOS HEINZE      481\n",
       "CARLOS FÁVARO           476\n",
       "                       ... \n",
       "EDUARDO GIRÃO            12\n",
       "TASSO JEREISSATI          9\n",
       "NEY SUASSUNA              3\n",
       "VIRGINIO DE CARVALHO      3\n",
       "NAILDE PANTA              1\n",
       "Name: SENADOR, Length: 86, dtype: int64"
      ]
     },
     "execution_count": 14,
     "metadata": {},
     "output_type": "execute_result"
    }
   ],
   "source": [
    "df['SENADOR'].value_counts()"
   ]
  },
  {
   "cell_type": "code",
   "execution_count": 15,
   "metadata": {},
   "outputs": [
    {
     "data": {
      "text/html": [
       "<div>\n",
       "<style scoped>\n",
       "    .dataframe tbody tr th:only-of-type {\n",
       "        vertical-align: middle;\n",
       "    }\n",
       "\n",
       "    .dataframe tbody tr th {\n",
       "        vertical-align: top;\n",
       "    }\n",
       "\n",
       "    .dataframe thead th {\n",
       "        text-align: right;\n",
       "    }\n",
       "</style>\n",
       "<table border=\"1\" class=\"dataframe\">\n",
       "  <thead>\n",
       "    <tr style=\"text-align: right;\">\n",
       "      <th></th>\n",
       "      <th></th>\n",
       "      <th>ANO</th>\n",
       "      <th>MES</th>\n",
       "      <th>COD_DOCUMENTO</th>\n",
       "    </tr>\n",
       "    <tr>\n",
       "      <th>SENADOR</th>\n",
       "      <th>VALOR_REEMBOLSADO</th>\n",
       "      <th></th>\n",
       "      <th></th>\n",
       "      <th></th>\n",
       "    </tr>\n",
       "  </thead>\n",
       "  <tbody>\n",
       "    <tr>\n",
       "      <th rowspan=\"5\" valign=\"top\">ACIR GURGACZ</th>\n",
       "      <th>73.37</th>\n",
       "      <td>2021</td>\n",
       "      <td>3</td>\n",
       "      <td>2160846</td>\n",
       "    </tr>\n",
       "    <tr>\n",
       "      <th>73.38</th>\n",
       "      <td>2021</td>\n",
       "      <td>4</td>\n",
       "      <td>2160849</td>\n",
       "    </tr>\n",
       "    <tr>\n",
       "      <th>73.45</th>\n",
       "      <td>2021</td>\n",
       "      <td>2</td>\n",
       "      <td>2158005</td>\n",
       "    </tr>\n",
       "    <tr>\n",
       "      <th>75.29</th>\n",
       "      <td>2021</td>\n",
       "      <td>1</td>\n",
       "      <td>2158003</td>\n",
       "    </tr>\n",
       "    <tr>\n",
       "      <th>171.00</th>\n",
       "      <td>2021</td>\n",
       "      <td>2</td>\n",
       "      <td>2158006</td>\n",
       "    </tr>\n",
       "    <tr>\n",
       "      <th>...</th>\n",
       "      <th>...</th>\n",
       "      <td>...</td>\n",
       "      <td>...</td>\n",
       "      <td>...</td>\n",
       "    </tr>\n",
       "    <tr>\n",
       "      <th rowspan=\"5\" valign=\"top\">ZEQUINHA MARINHO</th>\n",
       "      <th>8500.00</th>\n",
       "      <td>2021</td>\n",
       "      <td>11</td>\n",
       "      <td>2171581</td>\n",
       "    </tr>\n",
       "    <tr>\n",
       "      <th>12200.00</th>\n",
       "      <td>2021</td>\n",
       "      <td>4</td>\n",
       "      <td>2158537</td>\n",
       "    </tr>\n",
       "    <tr>\n",
       "      <th>13000.00</th>\n",
       "      <td>2021</td>\n",
       "      <td>1</td>\n",
       "      <td>2154727</td>\n",
       "    </tr>\n",
       "    <tr>\n",
       "      <th>14000.00</th>\n",
       "      <td>2021</td>\n",
       "      <td>3</td>\n",
       "      <td>2158223</td>\n",
       "    </tr>\n",
       "    <tr>\n",
       "      <th>17500.00</th>\n",
       "      <td>2021</td>\n",
       "      <td>8</td>\n",
       "      <td>2165472</td>\n",
       "    </tr>\n",
       "  </tbody>\n",
       "</table>\n",
       "<p>10421 rows × 3 columns</p>\n",
       "</div>"
      ],
      "text/plain": [
       "                                     ANO  MES  COD_DOCUMENTO\n",
       "SENADOR          VALOR_REEMBOLSADO                          \n",
       "ACIR GURGACZ     73.37              2021    3        2160846\n",
       "                 73.38              2021    4        2160849\n",
       "                 73.45              2021    2        2158005\n",
       "                 75.29              2021    1        2158003\n",
       "                 171.00             2021    2        2158006\n",
       "...                                  ...  ...            ...\n",
       "ZEQUINHA MARINHO 8500.00            2021   11        2171581\n",
       "                 12200.00           2021    4        2158537\n",
       "                 13000.00           2021    1        2154727\n",
       "                 14000.00           2021    3        2158223\n",
       "                 17500.00           2021    8        2165472\n",
       "\n",
       "[10421 rows x 3 columns]"
      ]
     },
     "execution_count": 15,
     "metadata": {},
     "output_type": "execute_result"
    }
   ],
   "source": [
    "df.groupby(['SENADOR','VALOR_REEMBOLSADO']).sum()"
   ]
  },
  {
   "cell_type": "code",
   "execution_count": 16,
   "metadata": {},
   "outputs": [
    {
     "data": {
      "text/plain": [
       "SENADOR\n",
       "OMAR AZIZ           527681.31\n",
       "ROGÉRIO CARVALHO    502132.23\n",
       "LUCAS BARRETO       499101.15\n",
       "MECIAS DE JESUS     488693.40\n",
       "TELMÁRIO MOTA       487741.74\n",
       "Name: VALOR_REEMBOLSADO, dtype: float64"
      ]
     },
     "execution_count": 16,
     "metadata": {},
     "output_type": "execute_result"
    }
   ],
   "source": [
    "df.groupby('SENADOR')['VALOR_REEMBOLSADO'].sum().sort_values(ascending=False).head()"
   ]
  },
  {
   "cell_type": "code",
   "execution_count": 17,
   "metadata": {},
   "outputs": [
    {
     "data": {
      "text/html": [
       "<div>\n",
       "<style scoped>\n",
       "    .dataframe tbody tr th:only-of-type {\n",
       "        vertical-align: middle;\n",
       "    }\n",
       "\n",
       "    .dataframe tbody tr th {\n",
       "        vertical-align: top;\n",
       "    }\n",
       "\n",
       "    .dataframe thead th {\n",
       "        text-align: right;\n",
       "    }\n",
       "</style>\n",
       "<table border=\"1\" class=\"dataframe\">\n",
       "  <thead>\n",
       "    <tr style=\"text-align: right;\">\n",
       "      <th></th>\n",
       "      <th>ANO</th>\n",
       "      <th>MES</th>\n",
       "      <th>SENADOR</th>\n",
       "      <th>TIPO_DESPESA</th>\n",
       "      <th>CNPJ_CPF</th>\n",
       "      <th>FORNECEDOR</th>\n",
       "      <th>DOCUMENTO</th>\n",
       "      <th>DATA</th>\n",
       "      <th>DETALHAMENTO</th>\n",
       "      <th>VALOR_REEMBOLSADO</th>\n",
       "      <th>COD_DOCUMENTO</th>\n",
       "    </tr>\n",
       "  </thead>\n",
       "  <tbody>\n",
       "    <tr>\n",
       "      <th>14210</th>\n",
       "      <td>2021</td>\n",
       "      <td>12</td>\n",
       "      <td>SÉRGIO PETECÃO</td>\n",
       "      <td>Contratação de consultorias, assessorias, pesq...</td>\n",
       "      <td>10.176.343/0001-65</td>\n",
       "      <td>Mult Graf Industria Grafica, Editira e Comerci...</td>\n",
       "      <td>000000360</td>\n",
       "      <td>24/12/2021</td>\n",
       "      <td>NaN</td>\n",
       "      <td>65000.0</td>\n",
       "      <td>2173458</td>\n",
       "    </tr>\n",
       "    <tr>\n",
       "      <th>14214</th>\n",
       "      <td>2021</td>\n",
       "      <td>12</td>\n",
       "      <td>SÉRGIO PETECÃO</td>\n",
       "      <td>Divulgação da atividade parlamentar</td>\n",
       "      <td>10.176.343/0001-65</td>\n",
       "      <td>Mult Graf Industria Grafica, Editira e Comerci...</td>\n",
       "      <td>000.000.349</td>\n",
       "      <td>13/12/2021</td>\n",
       "      <td>NaN</td>\n",
       "      <td>65000.0</td>\n",
       "      <td>2171769</td>\n",
       "    </tr>\n",
       "    <tr>\n",
       "      <th>11258</th>\n",
       "      <td>2021</td>\n",
       "      <td>12</td>\n",
       "      <td>MECIAS DE JESUS</td>\n",
       "      <td>Divulgação da atividade parlamentar</td>\n",
       "      <td>27.025.843/0001-07</td>\n",
       "      <td>F M HOLANDA EIRELI-ME</td>\n",
       "      <td>00002126</td>\n",
       "      <td>30/12/2021</td>\n",
       "      <td>NaN</td>\n",
       "      <td>60300.0</td>\n",
       "      <td>2172821</td>\n",
       "    </tr>\n",
       "    <tr>\n",
       "      <th>2327</th>\n",
       "      <td>2021</td>\n",
       "      <td>3</td>\n",
       "      <td>CID GOMES</td>\n",
       "      <td>Locomoção, hospedagem, alimentação, combustíve...</td>\n",
       "      <td>52.045.457/0001-16</td>\n",
       "      <td>TAM Aviação Executiva e Taxi Aéreo</td>\n",
       "      <td>459</td>\n",
       "      <td>30/03/2021</td>\n",
       "      <td>NaN</td>\n",
       "      <td>54552.0</td>\n",
       "      <td>2157774</td>\n",
       "    </tr>\n",
       "    <tr>\n",
       "      <th>11346</th>\n",
       "      <td>2021</td>\n",
       "      <td>8</td>\n",
       "      <td>NELSINHO TRAD</td>\n",
       "      <td>Contratação de consultorias, assessorias, pesq...</td>\n",
       "      <td>37.195.146/0001-40</td>\n",
       "      <td>Home Mix Produção e Assessoria em Radiodifusão...</td>\n",
       "      <td>00007332</td>\n",
       "      <td>04/08/2021</td>\n",
       "      <td>Referente ao pagamento no mês de agosto, da pr...</td>\n",
       "      <td>40000.0</td>\n",
       "      <td>2163759</td>\n",
       "    </tr>\n",
       "  </tbody>\n",
       "</table>\n",
       "</div>"
      ],
      "text/plain": [
       "        ANO  MES          SENADOR  \\\n",
       "14210  2021   12   SÉRGIO PETECÃO   \n",
       "14214  2021   12   SÉRGIO PETECÃO   \n",
       "11258  2021   12  MECIAS DE JESUS   \n",
       "2327   2021    3        CID GOMES   \n",
       "11346  2021    8    NELSINHO TRAD   \n",
       "\n",
       "                                            TIPO_DESPESA            CNPJ_CPF  \\\n",
       "14210  Contratação de consultorias, assessorias, pesq...  10.176.343/0001-65   \n",
       "14214                Divulgação da atividade parlamentar  10.176.343/0001-65   \n",
       "11258                Divulgação da atividade parlamentar  27.025.843/0001-07   \n",
       "2327   Locomoção, hospedagem, alimentação, combustíve...  52.045.457/0001-16   \n",
       "11346  Contratação de consultorias, assessorias, pesq...  37.195.146/0001-40   \n",
       "\n",
       "                                              FORNECEDOR    DOCUMENTO  \\\n",
       "14210  Mult Graf Industria Grafica, Editira e Comerci...    000000360   \n",
       "14214  Mult Graf Industria Grafica, Editira e Comerci...  000.000.349   \n",
       "11258                              F M HOLANDA EIRELI-ME     00002126   \n",
       "2327                  TAM Aviação Executiva e Taxi Aéreo          459   \n",
       "11346  Home Mix Produção e Assessoria em Radiodifusão...     00007332   \n",
       "\n",
       "             DATA                                       DETALHAMENTO  \\\n",
       "14210  24/12/2021                                                NaN   \n",
       "14214  13/12/2021                                                NaN   \n",
       "11258  30/12/2021                                                NaN   \n",
       "2327   30/03/2021                                                NaN   \n",
       "11346  04/08/2021  Referente ao pagamento no mês de agosto, da pr...   \n",
       "\n",
       "       VALOR_REEMBOLSADO  COD_DOCUMENTO  \n",
       "14210            65000.0        2173458  \n",
       "14214            65000.0        2171769  \n",
       "11258            60300.0        2172821  \n",
       "2327             54552.0        2157774  \n",
       "11346            40000.0        2163759  "
      ]
     },
     "execution_count": 17,
     "metadata": {},
     "output_type": "execute_result"
    }
   ],
   "source": [
    "df.nlargest(5,'VALOR_REEMBOLSADO')"
   ]
  },
  {
   "cell_type": "code",
   "execution_count": 18,
   "metadata": {},
   "outputs": [
    {
     "data": {
      "text/html": [
       "<div>\n",
       "<style scoped>\n",
       "    .dataframe tbody tr th:only-of-type {\n",
       "        vertical-align: middle;\n",
       "    }\n",
       "\n",
       "    .dataframe tbody tr th {\n",
       "        vertical-align: top;\n",
       "    }\n",
       "\n",
       "    .dataframe thead th {\n",
       "        text-align: right;\n",
       "    }\n",
       "</style>\n",
       "<table border=\"1\" class=\"dataframe\">\n",
       "  <thead>\n",
       "    <tr style=\"text-align: right;\">\n",
       "      <th></th>\n",
       "      <th>ANO</th>\n",
       "      <th>MES</th>\n",
       "      <th>SENADOR</th>\n",
       "      <th>TIPO_DESPESA</th>\n",
       "      <th>CNPJ_CPF</th>\n",
       "      <th>FORNECEDOR</th>\n",
       "      <th>DOCUMENTO</th>\n",
       "      <th>DATA</th>\n",
       "      <th>DETALHAMENTO</th>\n",
       "      <th>VALOR_REEMBOLSADO</th>\n",
       "      <th>COD_DOCUMENTO</th>\n",
       "    </tr>\n",
       "  </thead>\n",
       "  <tbody>\n",
       "    <tr>\n",
       "      <th>1480</th>\n",
       "      <td>2021</td>\n",
       "      <td>9</td>\n",
       "      <td>CARLOS PORTINHO</td>\n",
       "      <td>Passagens aéreas, aquáticas e terrestres nacio...</td>\n",
       "      <td>09.296.295/0001-60</td>\n",
       "      <td>AZUL</td>\n",
       "      <td>YYMQTR</td>\n",
       "      <td>27/09/2021</td>\n",
       "      <td>Companhia Aérea: AZUL, Localizador: YYMQTR. Pa...</td>\n",
       "      <td>0.01</td>\n",
       "      <td>2167020</td>\n",
       "    </tr>\n",
       "    <tr>\n",
       "      <th>1524</th>\n",
       "      <td>2021</td>\n",
       "      <td>11</td>\n",
       "      <td>CARLOS PORTINHO</td>\n",
       "      <td>Passagens aéreas, aquáticas e terrestres nacio...</td>\n",
       "      <td>09.296.295/0001-60</td>\n",
       "      <td>AZUL</td>\n",
       "      <td>QDNNXV</td>\n",
       "      <td>09/11/2021</td>\n",
       "      <td>Companhia Aérea: AZUL, Localizador: QDNNXV. Pa...</td>\n",
       "      <td>0.01</td>\n",
       "      <td>2169931</td>\n",
       "    </tr>\n",
       "    <tr>\n",
       "      <th>1534</th>\n",
       "      <td>2021</td>\n",
       "      <td>11</td>\n",
       "      <td>CARLOS PORTINHO</td>\n",
       "      <td>Passagens aéreas, aquáticas e terrestres nacio...</td>\n",
       "      <td>09.296.295/0001-60</td>\n",
       "      <td>AZUL</td>\n",
       "      <td>YWR3JE</td>\n",
       "      <td>26/11/2021</td>\n",
       "      <td>Companhia Aérea: AZUL, Localizador: YWR3JE. Pa...</td>\n",
       "      <td>0.01</td>\n",
       "      <td>2170502</td>\n",
       "    </tr>\n",
       "    <tr>\n",
       "      <th>1554</th>\n",
       "      <td>2021</td>\n",
       "      <td>12</td>\n",
       "      <td>CARLOS PORTINHO</td>\n",
       "      <td>Passagens aéreas, aquáticas e terrestres nacio...</td>\n",
       "      <td>09.296.295/0001-60</td>\n",
       "      <td>AZUL</td>\n",
       "      <td>AGKNFW</td>\n",
       "      <td>09/12/2021</td>\n",
       "      <td>Companhia Aérea: AZUL, Localizador: AGKNFW. Pa...</td>\n",
       "      <td>0.01</td>\n",
       "      <td>2171762</td>\n",
       "    </tr>\n",
       "    <tr>\n",
       "      <th>3228</th>\n",
       "      <td>2021</td>\n",
       "      <td>10</td>\n",
       "      <td>DÁRIO BERGER</td>\n",
       "      <td>Passagens aéreas, aquáticas e terrestres nacio...</td>\n",
       "      <td>07.575.651/0001-59</td>\n",
       "      <td>GOL LINHAS AÉREAS INTELIGENTES</td>\n",
       "      <td>HACROG</td>\n",
       "      <td>21/10/2021</td>\n",
       "      <td>Companhia Aérea: GOL, Localizador: HACROG. Pas...</td>\n",
       "      <td>0.01</td>\n",
       "      <td>2170088</td>\n",
       "    </tr>\n",
       "  </tbody>\n",
       "</table>\n",
       "</div>"
      ],
      "text/plain": [
       "       ANO  MES          SENADOR  \\\n",
       "1480  2021    9  CARLOS PORTINHO   \n",
       "1524  2021   11  CARLOS PORTINHO   \n",
       "1534  2021   11  CARLOS PORTINHO   \n",
       "1554  2021   12  CARLOS PORTINHO   \n",
       "3228  2021   10     DÁRIO BERGER   \n",
       "\n",
       "                                           TIPO_DESPESA            CNPJ_CPF  \\\n",
       "1480  Passagens aéreas, aquáticas e terrestres nacio...  09.296.295/0001-60   \n",
       "1524  Passagens aéreas, aquáticas e terrestres nacio...  09.296.295/0001-60   \n",
       "1534  Passagens aéreas, aquáticas e terrestres nacio...  09.296.295/0001-60   \n",
       "1554  Passagens aéreas, aquáticas e terrestres nacio...  09.296.295/0001-60   \n",
       "3228  Passagens aéreas, aquáticas e terrestres nacio...  07.575.651/0001-59   \n",
       "\n",
       "                          FORNECEDOR DOCUMENTO        DATA  \\\n",
       "1480                            AZUL    YYMQTR  27/09/2021   \n",
       "1524                            AZUL    QDNNXV  09/11/2021   \n",
       "1534                            AZUL    YWR3JE  26/11/2021   \n",
       "1554                            AZUL    AGKNFW  09/12/2021   \n",
       "3228  GOL LINHAS AÉREAS INTELIGENTES    HACROG  21/10/2021   \n",
       "\n",
       "                                           DETALHAMENTO  VALOR_REEMBOLSADO  \\\n",
       "1480  Companhia Aérea: AZUL, Localizador: YYMQTR. Pa...               0.01   \n",
       "1524  Companhia Aérea: AZUL, Localizador: QDNNXV. Pa...               0.01   \n",
       "1534  Companhia Aérea: AZUL, Localizador: YWR3JE. Pa...               0.01   \n",
       "1554  Companhia Aérea: AZUL, Localizador: AGKNFW. Pa...               0.01   \n",
       "3228  Companhia Aérea: GOL, Localizador: HACROG. Pas...               0.01   \n",
       "\n",
       "      COD_DOCUMENTO  \n",
       "1480        2167020  \n",
       "1524        2169931  \n",
       "1534        2170502  \n",
       "1554        2171762  \n",
       "3228        2170088  "
      ]
     },
     "execution_count": 18,
     "metadata": {},
     "output_type": "execute_result"
    }
   ],
   "source": [
    "df.nsmallest(5,'VALOR_REEMBOLSADO')"
   ]
  },
  {
   "cell_type": "code",
   "execution_count": 19,
   "metadata": {},
   "outputs": [
    {
     "data": {
      "text/plain": [
       "Locomoção, hospedagem, alimentação, combustíveis e lubrificantes                                                                                                                                   5687\n",
       "Aluguel de imóveis para escritório político, compreendendo despesas concernentes a eles.                                                                                                           3675\n",
       "Passagens aéreas, aquáticas e terrestres nacionais                                                                                                                                                 3528\n",
       "Divulgação da atividade parlamentar                                                                                                                                                                1409\n",
       "Aquisição de material de consumo para uso no escritório político, inclusive aquisição ou locação de software, despesas postais, aquisição de publicações, locação de móveis e de equipamentos.     1249\n",
       "Contratação de consultorias, assessorias, pesquisas, trabalhos técnicos e outros serviços de apoio ao exercício do mandato parlamentar                                                             1085\n",
       "Serviços de Segurança Privada                                                                                                                                                                        35\n",
       "Name: TIPO_DESPESA, dtype: int64"
      ]
     },
     "execution_count": 19,
     "metadata": {},
     "output_type": "execute_result"
    }
   ],
   "source": [
    "df['TIPO_DESPESA'].value_counts()"
   ]
  },
  {
   "cell_type": "code",
   "execution_count": 20,
   "metadata": {},
   "outputs": [
    {
     "data": {
      "text/plain": [
       "TIPO_DESPESA\n",
       "Contratação de consultorias, assessorias, pesquisas, trabalhos técnicos e outros serviços de apoio ao exercício do mandato parlamentar                                                             5913023.98\n",
       "Passagens aéreas, aquáticas e terrestres nacionais                                                                                                                                                 5311546.15\n",
       "Locomoção, hospedagem, alimentação, combustíveis e lubrificantes                                                                                                                                   4442129.86\n",
       "Aluguel de imóveis para escritório político, compreendendo despesas concernentes a eles.                                                                                                           4031126.54\n",
       "Divulgação da atividade parlamentar                                                                                                                                                                3968099.48\n",
       "Aquisição de material de consumo para uso no escritório político, inclusive aquisição ou locação de software, despesas postais, aquisição de publicações, locação de móveis e de equipamentos.     1019921.16\n",
       "Serviços de Segurança Privada                                                                                                                                                                        43953.09\n",
       "Name: VALOR_REEMBOLSADO, dtype: float64"
      ]
     },
     "execution_count": 20,
     "metadata": {},
     "output_type": "execute_result"
    }
   ],
   "source": [
    "df.groupby('TIPO_DESPESA')['VALOR_REEMBOLSADO'].sum().sort_values(ascending=False)"
   ]
  },
  {
   "cell_type": "code",
   "execution_count": null,
   "metadata": {},
   "outputs": [],
   "source": []
  }
 ],
 "metadata": {
  "kernelspec": {
   "display_name": "Python 3",
   "language": "python",
   "name": "python3"
  },
  "language_info": {
   "codemirror_mode": {
    "name": "ipython",
    "version": 3
   },
   "file_extension": ".py",
   "mimetype": "text/x-python",
   "name": "python",
   "nbconvert_exporter": "python",
   "pygments_lexer": "ipython3",
   "version": "3.8.5"
  }
 },
 "nbformat": 4,
 "nbformat_minor": 4
}
